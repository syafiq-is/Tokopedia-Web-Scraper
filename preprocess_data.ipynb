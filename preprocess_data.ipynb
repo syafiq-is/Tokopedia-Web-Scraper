{
 "cells": [
  {
   "cell_type": "code",
   "execution_count": 1,
   "id": "09b75584",
   "metadata": {},
   "outputs": [],
   "source": [
    "import pandas as pd"
   ]
  },
  {
   "cell_type": "code",
   "execution_count": 2,
   "id": "350a5c34",
   "metadata": {},
   "outputs": [
    {
     "data": {
      "text/html": [
       "<div>\n",
       "<style scoped>\n",
       "    .dataframe tbody tr th:only-of-type {\n",
       "        vertical-align: middle;\n",
       "    }\n",
       "\n",
       "    .dataframe tbody tr th {\n",
       "        vertical-align: top;\n",
       "    }\n",
       "\n",
       "    .dataframe thead th {\n",
       "        text-align: right;\n",
       "    }\n",
       "</style>\n",
       "<table border=\"1\" class=\"dataframe\">\n",
       "  <thead>\n",
       "    <tr style=\"text-align: right;\">\n",
       "      <th></th>\n",
       "      <th>titles</th>\n",
       "      <th>prices</th>\n",
       "      <th>real_prices</th>\n",
       "      <th>discounts</th>\n",
       "      <th>ratings</th>\n",
       "      <th>solds</th>\n",
       "      <th>sellers</th>\n",
       "      <th>badges</th>\n",
       "    </tr>\n",
       "  </thead>\n",
       "  <tbody>\n",
       "    <tr>\n",
       "      <th>0</th>\n",
       "      <td>SKINTIFIC All Day Light Sunscreen Mist SPF 50 ...</td>\n",
       "      <td>Rp69.000</td>\n",
       "      <td>Rp199.000</td>\n",
       "      <td>65%</td>\n",
       "      <td>4.9</td>\n",
       "      <td>4rb+ terjual</td>\n",
       "      <td>Skintific Official Store</td>\n",
       "      <td>Official Store</td>\n",
       "    </tr>\n",
       "    <tr>\n",
       "      <th>1</th>\n",
       "      <td>Azarine Hydrasoothe Sunscreen Gel SPF45</td>\n",
       "      <td>Rp31.980</td>\n",
       "      <td>Rp39.000</td>\n",
       "      <td>18%</td>\n",
       "      <td>4.9</td>\n",
       "      <td>10rb+ terjual</td>\n",
       "      <td>nihonmart</td>\n",
       "      <td>Official Store</td>\n",
       "    </tr>\n",
       "    <tr>\n",
       "      <th>2</th>\n",
       "      <td>Emina Sun Battle Bright Glow SPF 35 PA+++ - Su...</td>\n",
       "      <td>Rp18.500</td>\n",
       "      <td>Rp21.450</td>\n",
       "      <td>14%</td>\n",
       "      <td>4.9</td>\n",
       "      <td>100rb+ terjual</td>\n",
       "      <td>eminacosmetics</td>\n",
       "      <td>Official Store</td>\n",
       "    </tr>\n",
       "    <tr>\n",
       "      <th>3</th>\n",
       "      <td>【Beli 1 Gratis 1】 ONLYOU Sunscreen whitening S...</td>\n",
       "      <td>Rp112.000</td>\n",
       "      <td>Rp160.000</td>\n",
       "      <td>30%</td>\n",
       "      <td>4.8</td>\n",
       "      <td>250+ terjual</td>\n",
       "      <td>BeautyHub Shop</td>\n",
       "      <td>No Badge</td>\n",
       "    </tr>\n",
       "    <tr>\n",
       "      <th>4</th>\n",
       "      <td>【BPOM Certification】ONLYOU Sunscreen whitening...</td>\n",
       "      <td>Rp53.100</td>\n",
       "      <td>Rp59.000</td>\n",
       "      <td>10%</td>\n",
       "      <td>4.9</td>\n",
       "      <td>7rb+ terjual</td>\n",
       "      <td>BeautyHub Shop</td>\n",
       "      <td>No Badge</td>\n",
       "    </tr>\n",
       "  </tbody>\n",
       "</table>\n",
       "</div>"
      ],
      "text/plain": [
       "                                              titles     prices real_prices  \\\n",
       "0  SKINTIFIC All Day Light Sunscreen Mist SPF 50 ...   Rp69.000   Rp199.000   \n",
       "1            Azarine Hydrasoothe Sunscreen Gel SPF45   Rp31.980    Rp39.000   \n",
       "2  Emina Sun Battle Bright Glow SPF 35 PA+++ - Su...   Rp18.500    Rp21.450   \n",
       "3  【Beli 1 Gratis 1】 ONLYOU Sunscreen whitening S...  Rp112.000   Rp160.000   \n",
       "4  【BPOM Certification】ONLYOU Sunscreen whitening...   Rp53.100    Rp59.000   \n",
       "\n",
       "  discounts  ratings           solds                   sellers          badges  \n",
       "0       65%      4.9    4rb+ terjual  Skintific Official Store  Official Store  \n",
       "1       18%      4.9   10rb+ terjual                 nihonmart  Official Store  \n",
       "2       14%      4.9  100rb+ terjual            eminacosmetics  Official Store  \n",
       "3       30%      4.8    250+ terjual            BeautyHub Shop        No Badge  \n",
       "4       10%      4.9    7rb+ terjual            BeautyHub Shop        No Badge  "
      ]
     },
     "execution_count": 2,
     "metadata": {},
     "output_type": "execute_result"
    }
   ],
   "source": [
    "df = pd.read_csv(\"tokopedia_produk_scraper.csv\")\n",
    "df.head()"
   ]
  }
 ],
 "metadata": {
  "kernelspec": {
   "display_name": "Python 3",
   "language": "python",
   "name": "python3"
  },
  "language_info": {
   "codemirror_mode": {
    "name": "ipython",
    "version": 3
   },
   "file_extension": ".py",
   "mimetype": "text/x-python",
   "name": "python",
   "nbconvert_exporter": "python",
   "pygments_lexer": "ipython3",
   "version": "3.13.1"
  }
 },
 "nbformat": 4,
 "nbformat_minor": 5
}
